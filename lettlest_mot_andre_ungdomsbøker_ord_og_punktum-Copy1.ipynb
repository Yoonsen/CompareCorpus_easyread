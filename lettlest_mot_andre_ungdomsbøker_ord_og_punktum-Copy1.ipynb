{
 "cells": [
  {
   "cell_type": "markdown",
   "metadata": {},
   "source": [
    "\n",
    "## Sammenligning av lettlest-bøker mot andre ungdomsbøker\n"
   ]
  },
  {
   "cell_type": "code",
   "execution_count": 1,
   "metadata": {},
   "outputs": [],
   "source": [
    "import nbtext as nb\n",
    "from nbtext import get_urns_from_text, Corpus_urn, get_urn\n",
    "\n",
    "import matplotlib.pyplot as plt\n",
    "%matplotlib inline"
   ]
  },
  {
   "cell_type": "code",
   "execution_count": 2,
   "metadata": {},
   "outputs": [],
   "source": [
    "# finn rett sti til mappen med word-filer, og erstatt den med den som ligger her\n",
    "\n",
    "urns = get_urns_from_text('./urner_lettlest.txt')\n",
    "\n",
    "# lager et referansekorpus\n",
    "\n",
    "refurns = get_urns_from_text('./urnref.txt')\n",
    "\n",
    "# voksenkorpus\n",
    "\n",
    "vrefurns = nb.get_urn({'year':1970, 'next':60, 'ddk':\"839%\", 'limit':80})\n",
    "reference = [r[0] for r in vrefurns]"
   ]
  },
  {
   "cell_type": "markdown",
   "metadata": {},
   "source": [
    "# Lager korpus\n",
    "\n",
    "Dataene som brukes i sammenligningen kommer fra lister over URNer som ligger i fila `urner_lettlest.txt`, og fra listen over URN-er som ligger i fila `urnref.txt`.\n",
    "\n",
    "For sammenligning av tekster fra Dewey ligger info om WebDewey [her](http://deweysearchno.pansoft.de/webdeweysearch/executeSearch.html?lastScheduleRecord=&lastTableRecord=&query=808.80384&catalogs=nb.no)"
   ]
  },
  {
   "cell_type": "code",
   "execution_count": 3,
   "metadata": {},
   "outputs": [],
   "source": [
    "nb.get_corpus_text??"
   ]
  },
  {
   "cell_type": "code",
   "execution_count": 4,
   "metadata": {},
   "outputs": [
    {
     "data": {
      "text/plain": [
       "True"
      ]
     },
     "execution_count": 4,
     "metadata": {},
     "output_type": "execute_result"
    }
   ],
   "source": [
    "# f er målkorpuset\n",
    "\n",
    "f = nb.get_corpus_text(urns, top=0, cutoff=0)\n",
    "nb.normalize_corpus_dataframe(f)"
   ]
  },
  {
   "cell_type": "code",
   "execution_count": 5,
   "metadata": {},
   "outputs": [
    {
     "data": {
      "text/plain": [
       "True"
      ]
     },
     "execution_count": 5,
     "metadata": {},
     "output_type": "execute_result"
    }
   ],
   "source": [
    "# r er ungdomstekster\n",
    "\n",
    "r = nb.get_corpus_text(refurns, top=0, cutoff=0)\n",
    "nb.normalize_corpus_dataframe(r)"
   ]
  },
  {
   "cell_type": "code",
   "execution_count": 6,
   "metadata": {},
   "outputs": [
    {
     "data": {
      "text/plain": [
       "True"
      ]
     },
     "execution_count": 6,
     "metadata": {},
     "output_type": "execute_result"
    }
   ],
   "source": [
    "# v er voksenkorpuset\n",
    "\n",
    "v = nb.get_corpus_text(reference, top=0, cutoff=0)\n",
    "nb.normalize_corpus_dataframe(v)"
   ]
  },
  {
   "cell_type": "markdown",
   "metadata": {},
   "source": [
    "## Kode for å beregne forholdet mellom tegn i en tekst"
   ]
  },
  {
   "cell_type": "code",
   "execution_count": 7,
   "metadata": {},
   "outputs": [],
   "source": [
    "import pandas as pd\n",
    "\n",
    "def ratio(frame, val1, val2):\n",
    "    return pd.DataFrame(frame.dropna()[val1]/frame.dropna()[val2]).dropna()"
   ]
  },
  {
   "cell_type": "code",
   "execution_count": 8,
   "metadata": {},
   "outputs": [],
   "source": [
    "def sammenlign(f, r, value, labels=['f','r'], title=\"Sammenlign\"):\n",
    "    plt.figure(figsize=(10,5))\n",
    "    plt.title(title)\n",
    "    plt.hist(f.transpose().dropna()[value], bins=10, density=True, color='blue', alpha=0.6);\n",
    "    plt.hist(r.transpose().dropna()[value], bins=10, density=True, color='orange', alpha = 0.6);\n",
    "    plt.legend(labels)\n",
    "    plt.tight_layout()\n",
    "    return\n",
    "\n",
    "def plottlitt(f, r, labels=['lettlest','referanse'], title=\"Sammenlign\"):\n",
    "    plt.figure(figsize=(10,5))\n",
    "    plt.title(title)\n",
    "    lett = plt.hist(f, bins=10, density=True, color='blue', alpha=0.6, label ='lett');\n",
    "    ref = plt.hist(r, bins=10, density=True, color='orange', alpha = 0.6, label ='referanse');\n",
    "    plt.legend(labels)\n",
    "    plt.tight_layout()\n",
    "    return\n",
    "    "
   ]
  },
  {
   "cell_type": "markdown",
   "metadata": {},
   "source": [
    "## Punktum og komma som kompleksitetsmarkører\n",
    "\n",
    "Mange punktum (relativt) er koblet til setningslengde. Lange setninger gir også flere komma.\n"
   ]
  },
  {
   "cell_type": "markdown",
   "metadata": {},
   "source": [
    "Her sjekker vi forholdet mellom antall punktum og komma - hvert dokument er knyttet til forholdstallet: $doc \\leftarrow\\frac{punktum}{komma}$. Jo mer punktum og færre komma, jo større blir verdien. Her forventes det at lettlest-tekster har større verdi enn referansen.\n",
    "\n",
    "I histogrammet gir tallet på x-aksen forholdstallet, og y-aksen gir antallet dokument. Histogrammene er relativisert for å kunne gjøre sammenligning, siden referansekorpuset er større enn målkorpuset.\n",
    "\n",
    "\n",
    "Ratioen forsterker effekten av at tekstene i lettlestkategorien\n",
    "har flere punktum og færre komma (relativt sett) enn i referansekategorien"
   ]
  },
  {
   "cell_type": "code",
   "execution_count": 9,
   "metadata": {},
   "outputs": [
    {
     "data": {
      "image/png": "[encoded data removed]",
      "text/plain": [
       "<Figure size 720x360 with 1 Axes>"
      ]
     },
     "metadata": {},
     "output_type": "display_data"
    }
   ],
   "source": [
    "plottlitt(ratio(r.transpose(),'.',',')[0], ratio(f.transpose(),'.',',')[0], labels=['referanse','lettlest'], title=\"Sammenling punktum/komma\")"
   ]
  },
  {
   "cell_type": "markdown",
   "metadata": {},
   "source": [
    "#### Sammenligning av komma i de to kategoriene. Lettlest har færre komma."
   ]
  },
  {
   "cell_type": "code",
   "execution_count": 10,
   "metadata": {},
   "outputs": [
    {
     "data": {
      "image/png": "[encoded data removed]",
      "text/plain": [
       "<Figure size 720x360 with 1 Axes>"
      ]
     },
     "metadata": {},
     "output_type": "display_data"
    }
   ],
   "source": [
    "plottlitt(r.transpose().dropna()[','], f.transpose()[','], labels=['referanse','lettlest'], title=\"Sammenlign komma\")"
   ]
  },
  {
   "cell_type": "code",
   "execution_count": 11,
   "metadata": {},
   "outputs": [
    {
     "data": {
      "image/png": "[encoded data removed]",
      "text/plain": [
       "<Figure size 720x360 with 1 Axes>"
      ]
     },
     "metadata": {},
     "output_type": "display_data"
    }
   ],
   "source": [
    "plottlitt(r.transpose().dropna()['.'], f.transpose()['.'], labels=['referanse','lettlest'], title=\"Sammenlign punktum\")"
   ]
  },
  {
   "cell_type": "markdown",
   "metadata": {},
   "source": [
    "#### Lettlest har flere punktum."
   ]
  },
  {
   "cell_type": "code",
   "execution_count": 12,
   "metadata": {},
   "outputs": [
    {
     "data": {
      "image/png": "[encoded data removed]",
      "text/plain": [
       "<Figure size 720x360 with 1 Axes>"
      ]
     },
     "metadata": {},
     "output_type": "display_data"
    }
   ],
   "source": [
    "plottlitt(r.transpose().dropna()['.'], f.transpose()['.'], labels=['referanse','lettlest'], title=\"Sammenlign punktum\")"
   ]
  },
  {
   "cell_type": "markdown",
   "metadata": {},
   "source": [
    "# Sammenligning av andre ord\n",
    "\n",
    "Forskjellige ord kan knyttes til forskjellige sjangre."
   ]
  },
  {
   "cell_type": "markdown",
   "metadata": {},
   "source": [
    "#### Argumenterende ord er ikke-eksisterende?"
   ]
  },
  {
   "cell_type": "code",
   "execution_count": 110,
   "metadata": {},
   "outputs": [
    {
     "data": {
      "image/png": "[encoded data removed]",
      "text/plain": [
       "<Figure size 720x360 with 1 Axes>"
      ]
     },
     "metadata": {},
     "output_type": "display_data"
    }
   ],
   "source": [
    "sammenlign(f, r, 'derfor',labels=['lettlest','referanse'])"
   ]
  },
  {
   "cell_type": "markdown",
   "metadata": {},
   "source": [
    "Her kan vi også se på statistikken:"
   ]
  },
  {
   "cell_type": "code",
   "execution_count": 111,
   "metadata": {},
   "outputs": [
    {
     "data": {
      "image/png": "[encoded data removed]",
      "text/plain": [
       "<Figure size 720x360 with 1 Axes>"
      ]
     },
     "metadata": {},
     "output_type": "display_data"
    }
   ],
   "source": [
    "sammenlign(f, r, 'Derfor',labels=['lettlest','referanse'])"
   ]
  },
  {
   "cell_type": "code",
   "execution_count": 112,
   "metadata": {},
   "outputs": [
    {
     "data": {
      "image/png": "[encoded data removed]",
      "text/plain": [
       "<Figure size 720x360 with 1 Axes>"
      ]
     },
     "metadata": {},
     "output_type": "display_data"
    }
   ],
   "source": [
    "sammenlign(f, r, 'ikke', labels=['lettlest','referanse'])"
   ]
  },
  {
   "cell_type": "code",
   "execution_count": 113,
   "metadata": {},
   "outputs": [
    {
     "data": {
      "image/png": "[encoded data removed]",
      "text/plain": [
       "<Figure size 720x360 with 1 Axes>"
      ]
     },
     "metadata": {},
     "output_type": "display_data"
    }
   ],
   "source": [
    "sammenlign(f, r, 'men', labels=['lettlest', 'referanse'])"
   ]
  },
  {
   "cell_type": "code",
   "execution_count": null,
   "metadata": {},
   "outputs": [],
   "source": []
  },
  {
   "cell_type": "code",
   "execution_count": 114,
   "metadata": {},
   "outputs": [
    {
     "data": {
      "image/png": "[encoded data removed]",
      "text/plain": [
       "<Figure size 720x360 with 1 Axes>"
      ]
     },
     "metadata": {},
     "output_type": "display_data"
    }
   ],
   "source": [
    "sammenlign(f, r, 'hvem', labels=['lettlest','referanse'])"
   ]
  },
  {
   "cell_type": "code",
   "execution_count": 127,
   "metadata": {},
   "outputs": [
    {
     "data": {
      "image/png": "[encoded data removed]",
      "text/plain": [
       "<Figure size 720x360 with 1 Axes>"
      ]
     },
     "metadata": {},
     "output_type": "display_data"
    }
   ],
   "source": [
    "sammenlign(f, r, 'den', labels=['lettlest','referanse'], title=\"Ordet 'den'\")"
   ]
  },
  {
   "cell_type": "code",
   "execution_count": 128,
   "metadata": {},
   "outputs": [
    {
     "data": {
      "image/png": "[encoded data removed]",
      "text/plain": [
       "<Figure size 720x360 with 1 Axes>"
      ]
     },
     "metadata": {},
     "output_type": "display_data"
    }
   ],
   "source": [
    "sammenlign(f, v, 'denne', labels=['lettlest','voksenreferanse'])"
   ]
  },
  {
   "cell_type": "markdown",
   "metadata": {},
   "source": [
    "## Hvordan er det med ordlengde?"
   ]
  },
  {
   "cell_type": "code",
   "execution_count": 13,
   "metadata": {},
   "outputs": [],
   "source": [
    "def gjennomsnittlig_ordlengde(f):\n",
    "    sums = []\n",
    "    for bok in f:\n",
    "        sums.append(sum(map(len, list(f[bok].index)))/len(f[bok].index))\n",
    "    return sum(sums)/len(sums)\n",
    "\n",
    "def weighted(f):\n",
    "    sums = []\n",
    "    for bok in f:\n",
    "        bokw = []\n",
    "        for w in f[bok].index:\n",
    "            try:\n",
    "                factor = f[bok][f[bok]>0][w]\n",
    "                res = len(w)*factor\n",
    "                if res > 0:\n",
    "                    bokw.append(res)\n",
    "            except:\n",
    "                True\n",
    "        sums.append(sum(bokw)/len(bokw))\n",
    "    return sum(sums)/len(sums)\n",
    "                    "
   ]
  },
  {
   "cell_type": "code",
   "execution_count": 14,
   "metadata": {},
   "outputs": [
    {
     "data": {
      "text/plain": [
       "!              0.002843\n",
       "'              0.000388\n",
       "(              0.000388\n",
       ")              0.000388\n",
       "*              0.000129\n",
       ",              0.039418\n",
       "-              0.016090\n",
       ".              0.085234\n",
       "...            0.000258\n",
       "/              0.000065\n",
       "1              0.000388\n",
       "10.            0.000258\n",
       "100            0.000129\n",
       "101            0.000065\n",
       "102            0.000065\n",
       "104            0.000065\n",
       "105            0.000065\n",
       "106            0.000065\n",
       "11             0.000065\n",
       "13             0.000129\n",
       "14             0.000065\n",
       "15             0.000065\n",
       "16             0.000065\n",
       "18             0.000065\n",
       "1840           0.000065\n",
       "1996           0.000129\n",
       "2              0.000065\n",
       "20             0.000129\n",
       "21             0.000065\n",
       "22             0.000065\n",
       "                 ...   \n",
       "åsene          0.000323\n",
       "åser           0.000065\n",
       "ære            0.000065\n",
       "ærene          0.000065\n",
       "ætt            0.000388\n",
       "ém             0.000065\n",
       "øksa           0.000065\n",
       "økte           0.000065\n",
       "ønsker         0.000065\n",
       "ønsket         0.000258\n",
       "ørene          0.000323\n",
       "ørken          0.000065\n",
       "ørkenen        0.000194\n",
       "ørne-          0.000065\n",
       "ørnefjærene    0.000065\n",
       "ørnen          0.000065\n",
       "ørnene         0.000065\n",
       "ørner          0.000258\n",
       "ørnerede       0.000065\n",
       "øst            0.000517\n",
       "østhimmelen    0.000129\n",
       "østkysten      0.000065\n",
       "østover        0.000065\n",
       "østre          0.000065\n",
       "østsiden       0.000129\n",
       "øye            0.000582\n",
       "øyne           0.000065\n",
       "øynene         0.000452\n",
       "—              0.001228\n",
       "■              0.000065\n",
       "Name: 2010050408081, Length: 2752, dtype: float64"
      ]
     },
     "execution_count": 14,
     "metadata": {},
     "output_type": "execute_result"
    }
   ],
   "source": [
    "f['2010050408081'][f['2010050408081']>0]"
   ]
  },
  {
   "cell_type": "code",
   "execution_count": 15,
   "metadata": {},
   "outputs": [
    {
     "data": {
      "text/plain": [
       "7.440386680988192"
      ]
     },
     "execution_count": 15,
     "metadata": {},
     "output_type": "execute_result"
    }
   ],
   "source": [
    "gjennomsnittlig_ordlengde(f)"
   ]
  },
  {
   "cell_type": "code",
   "execution_count": 16,
   "metadata": {},
   "outputs": [
    {
     "data": {
      "text/plain": [
       "8.802032981135309"
      ]
     },
     "execution_count": 16,
     "metadata": {},
     "output_type": "execute_result"
    }
   ],
   "source": [
    "gjennomsnittlig_ordlengde(v)"
   ]
  },
  {
   "cell_type": "code",
   "execution_count": 17,
   "metadata": {},
   "outputs": [
    {
     "data": {
      "text/plain": [
       "8.0740431454419"
      ]
     },
     "execution_count": 17,
     "metadata": {},
     "output_type": "execute_result"
    }
   ],
   "source": [
    "gjennomsnittlig_ordlengde(r)"
   ]
  },
  {
   "cell_type": "code",
   "execution_count": 155,
   "metadata": {},
   "outputs": [
    {
     "data": {
      "text/plain": [
       "2.3471216262678883e-05"
      ]
     },
     "execution_count": 155,
     "metadata": {},
     "output_type": "execute_result"
    }
   ],
   "source": [
    "weighted(v)"
   ]
  },
  {
   "cell_type": "code",
   "execution_count": null,
   "metadata": {},
   "outputs": [],
   "source": [
    "f"
   ]
  }
 ],
 "metadata": {
  "hide_input": false,
  "kernelspec": {
   "display_name": "Python 3",
   "language": "python",
   "name": "python3"
  },
  "language_info": {
   "codemirror_mode": {
    "name": "ipython",
    "version": 3
   },
   "file_extension": ".py",
   "mimetype": "text/x-python",
   "name": "python",
   "nbconvert_exporter": "python",
   "pygments_lexer": "ipython3",
   "version": "3.6.5"
  }
 },
 "nbformat": 4,
 "nbformat_minor": 2
}
